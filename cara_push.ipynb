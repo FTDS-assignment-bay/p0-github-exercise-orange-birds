{
 "cells": [
  {
   "cell_type": "markdown",
   "metadata": {},
   "source": [
    "# Cara clone repository"
   ]
  },
  {
   "cell_type": "markdown",
   "metadata": {},
   "source": [
    "Ada 2 cara untuk Clone\n",
    "- Bisa lewat HTTPS\n",
    "- Bisa melalui SSH\n",
    "\n",
    "Cara Clone\n",
    "- `git clone repo`\n",
    "- akan berbeda"
   ]
  }
 ],
 "metadata": {
  "language_info": {
   "name": "python"
  }
 },
 "nbformat": 4,
 "nbformat_minor": 2
}
