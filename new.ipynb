{
 "cells": [
  {
   "cell_type": "markdown",
   "metadata": {},
   "source": [
    "kutipan: \"blablabla\""
   ]
  },
  {
   "cell_type": "code",
   "execution_count": 10,
   "metadata": {},
   "outputs": [
    {
     "data": {
      "text/plain": [
       "'ini adalah stringini string juga !@#$%^&*(fbksrg)'"
      ]
     },
     "execution_count": 10,
     "metadata": {},
     "output_type": "execute_result"
    }
   ],
   "source": [
    "\"ini adalah string\" + 'ini string juga !@#$%^&*(fbksrg)'\n"
   ]
  },
  {
   "cell_type": "code",
   "execution_count": 11,
   "metadata": {},
   "outputs": [
    {
     "data": {
      "text/plain": [
       "'ini string diulang 3x ini string diulang 3x ini string diulang 3x '"
      ]
     },
     "execution_count": 11,
     "metadata": {},
     "output_type": "execute_result"
    }
   ],
   "source": [
    "\"ini string diulang 3x \" * 3"
   ]
  },
  {
   "cell_type": "markdown",
   "metadata": {},
   "source": [
    "integer"
   ]
  },
  {
   "cell_type": "code",
   "execution_count": 12,
   "metadata": {},
   "outputs": [
    {
     "data": {
      "text/plain": [
       "100"
      ]
     },
     "execution_count": 12,
     "metadata": {},
     "output_type": "execute_result"
    }
   ],
   "source": [
    "100"
   ]
  },
  {
   "cell_type": "markdown",
   "metadata": {},
   "source": [
    "float"
   ]
  },
  {
   "cell_type": "code",
   "execution_count": 16,
   "metadata": {},
   "outputs": [
    {
     "data": {
      "text/plain": [
       "float"
      ]
     },
     "execution_count": 16,
     "metadata": {},
     "output_type": "execute_result"
    }
   ],
   "source": [
    "type(1.5)"
   ]
  },
  {
   "cell_type": "markdown",
   "metadata": {},
   "source": [
    "complex"
   ]
  },
  {
   "cell_type": "code",
   "execution_count": 15,
   "metadata": {},
   "outputs": [
    {
     "data": {
      "text/plain": [
       "complex"
      ]
     },
     "execution_count": 15,
     "metadata": {},
     "output_type": "execute_result"
    }
   ],
   "source": [
    "type(2j)"
   ]
  },
  {
   "cell_type": "markdown",
   "metadata": {},
   "source": [
    "sequence"
   ]
  },
  {
   "cell_type": "markdown",
   "metadata": {},
   "source": [
    "list"
   ]
  },
  {
   "cell_type": "code",
   "execution_count": 27,
   "metadata": {},
   "outputs": [
    {
     "name": "stdout",
     "output_type": "stream",
     "text": [
      "[1, 1.43, '123', 4, 5, 6, 7, 8, 9, 10, ['asdf']]\n",
      "[1, 1.43, '123', 4, 5, 6, 7, 8, 9, 10, ['asdf'], 100]\n",
      "[1, 1.43, '123', 4, 5, 6, 77, 8, 9, 10, ['asdf'], 100]\n",
      "[1, 1.43, '123', 4, 5, 6, 77, 9, 10, ['asdf'], 100]\n"
     ]
    }
   ],
   "source": [
    "data = [1,1.43,\"123\",4,5,6,7,8,9,10,[\"asdf\"]]\n",
    "print(data)\n",
    "# menambahkan data ke dalam list\n",
    "data.append(100)\n",
    "print(data)\n",
    "# mengubah data angka 7 dalam list\n",
    "data[6]=77\n",
    "print(data)\n",
    "# menghapus data dari list\n",
    "data.remove(8)\n",
    "print(data)\n"
   ]
  },
  {
   "cell_type": "markdown",
   "metadata": {},
   "source": [
    "tuple"
   ]
  },
  {
   "cell_type": "code",
   "execution_count": 39,
   "metadata": {},
   "outputs": [
    {
     "name": "stdout",
     "output_type": "stream",
     "text": [
      "3\n"
     ]
    }
   ],
   "source": [
    "varList = (1,2,3,4,5,6,7,8,9,10)\n",
    "print(varList[-8])"
   ]
  },
  {
   "cell_type": "markdown",
   "metadata": {},
   "source": [
    "slicing -> mengambil sebagian data dari list/tuple"
   ]
  },
  {
   "cell_type": "code",
   "execution_count": 36,
   "metadata": {},
   "outputs": [
    {
     "name": "stdout",
     "output_type": "stream",
     "text": [
      "[2, 4, 6]\n",
      "[1, 2, 33, 44, 55, 6, 7, 8, 9]\n",
      "[1, 2, 33, 44, 6, 7, 8, 9]\n"
     ]
    }
   ],
   "source": [
    "listdata = [1,2,3,4,5,6,7,8,9]\n",
    "print(listdata[1:7:2])\n",
    "listdata[2:5] = [33,44,55]\n",
    "print(listdata)\n",
    "listdata[2:5] = [33,44]\n",
    "print(listdata)"
   ]
  },
  {
   "cell_type": "markdown",
   "metadata": {},
   "source": [
    "Dictionary"
   ]
  },
  {
   "cell_type": "code",
   "execution_count": 48,
   "metadata": {},
   "outputs": [
    {
     "name": "stdout",
     "output_type": "stream",
     "text": [
      "{'key1': 123, 'key2': 234, 'key3': 678, 'keyn': 'asdf', 'keysub': {'subkey1': 123}}\n",
      "asdf\n",
      "123\n",
      "123\n",
      "{'key1': 123, 'key2': 234, 'key3': [1, 2, 3], 'keyn': 'asdf', 'keysub': {'subkey1': 123}}\n",
      "{'key1': 123, 'key2': 234, 'key3': [1, 2, 3], 'keyn': 'asdf', 'keysub': {'subkey1': 123}, 'key4': 'stringk'}\n",
      "{'key1': 123, 'key2': 234, 'key3': [1, 2, 3], 'keyn': 'asdf', 'keysub': {'subkey1': 123}}\n"
     ]
    }
   ],
   "source": [
    "vardict={\n",
    "    \"key1\":123,\n",
    "    \"key2\":234,\n",
    "    \"key3\":678,\n",
    "    \"keyn\":\"asdf\",\n",
    "    \"keysub\": {\n",
    "        \"subkey1\":123\n",
    "    }\n",
    "}\n",
    "print(vardict)\n",
    "print(vardict[\"keyn\"])\n",
    "hasil1=vardict[\"keysub\"]\n",
    "print(hasil1[\"subkey1\"])\n",
    "print(vardict[\"keysub\"][\"subkey1\"])\n",
    "#ubah data\n",
    "vardict[\"key3\"] = [1,2,3]\n",
    "print(vardict)\n",
    "#tambah data\n",
    "vardict[\"key4\"] = \"stringk\"\n",
    "print(vardict)\n",
    "#remove data\n",
    "del vardict[\"key4\"]\n",
    "print(vardict)\n"
   ]
  },
  {
   "cell_type": "markdown",
   "metadata": {},
   "source": [
    "mencari tahu jumlah data dari list/tuple"
   ]
  },
  {
   "cell_type": "code",
   "execution_count": 51,
   "metadata": {},
   "outputs": [
    {
     "data": {
      "text/plain": [
       "5"
      ]
     },
     "execution_count": 51,
     "metadata": {},
     "output_type": "execute_result"
    }
   ],
   "source": [
    "listA = [1,2,3,4,5,2,3,4,4]\n",
    "setA = {1,2,3,4,5,2,3,4,4}\n",
    "len(listA)\n",
    "len(setA)"
   ]
  },
  {
   "cell_type": "markdown",
   "metadata": {},
   "source": [
    "variable"
   ]
  },
  {
   "cell_type": "code",
   "execution_count": 53,
   "metadata": {},
   "outputs": [
    {
     "data": {
      "text/plain": [
       "128"
      ]
     },
     "execution_count": 53,
     "metadata": {},
     "output_type": "execute_result"
    }
   ],
   "source": [
    "varA = 123\n",
    "varA += 5\n",
    "varA"
   ]
  },
  {
   "cell_type": "markdown",
   "metadata": {},
   "source": [
    "comparison"
   ]
  },
  {
   "cell_type": "code",
   "execution_count": 55,
   "metadata": {},
   "outputs": [
    {
     "data": {
      "text/plain": [
       "True"
      ]
     },
     "execution_count": 55,
     "metadata": {},
     "output_type": "execute_result"
    }
   ],
   "source": [
    "varA = 1\n",
    "varB = 2\n",
    "varA <= varB"
   ]
  }
 ],
 "metadata": {
  "kernelspec": {
   "display_name": "base",
   "language": "python",
   "name": "python3"
  },
  "language_info": {
   "codemirror_mode": {
    "name": "ipython",
    "version": 3
   },
   "file_extension": ".py",
   "mimetype": "text/x-python",
   "name": "python",
   "nbconvert_exporter": "python",
   "pygments_lexer": "ipython3",
   "version": "3.9.19"
  }
 },
 "nbformat": 4,
 "nbformat_minor": 2
}
